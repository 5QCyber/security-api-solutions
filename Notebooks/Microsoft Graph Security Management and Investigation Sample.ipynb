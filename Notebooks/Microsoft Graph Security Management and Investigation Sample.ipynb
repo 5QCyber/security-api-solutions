{
  "cells": [
    {
      "metadata": {},
      "cell_type": "markdown",
      "source": "# Introduction\nThis notebook shows how to use the [Microsoft Graph Security API](https://aka.ms/graphsecuritydocs). It defines a Python wrapper for calling the API \nand several Jupyter magics to make it easy to access [Microsoft Graph Security alerts](https://aka.ms/graphsecurityalerts). While the APIs are documented and supported,\nthe wrapper in this notebook is a sample and is not an official programming interface.\n\nAuthor: [Microsoft Graph Security Team](graphsecfeedback@microsoft.com) (Inspired by [@JohnLaTwC](https://twitter.com/JohnLaTwC))\n\n## Links to Microsoft Graph Security API documentation and other samples\n\n[Overview of Microsoft Graph Security](https://aka.ms/graphsecuritydocs)\n\n[What are alerts?](https://aka.ms/graphsecurityalerts)\n\n[Alert Schema - list of properties and descriptions](https://docs.microsoft.com/en-us/graph/api/resources/alert?view=graph-rest-1.0) \n\n[Authorization - Application-only and User-Delegated](https://docs.microsoft.com/graph/security-authorization?view=graph-rest-1.0)\n\n[More Samples](https://aka.ms/graphsecurityapicode)\n\n[OData query examples](https://docs.microsoft.com/graph/query-parameters)"
    },
    {
      "metadata": {},
      "cell_type": "markdown",
      "source": "# Authentication - Initialize secrets\n\nDownload this notebook and follow the steps below to get the application ID and secret that you can use to authenticate and get data from your Azure Active Directory (Azure AD) tenant using this notebook. \n1.\t[Register your application](https://docs.microsoft.com/en-us/graph/auth-v2-service#1-register-your-app) for this notebook in Azure AD in application only mode. \n2.\t[Configure permissions](https://docs.microsoft.com/en-us/graph/auth-v2-service#2-configure-permissions-for-microsoft-graph) and be sure to add the `SecurityEvents.ReadWrite.All` permission to your application.\n3. Get your Azure AD tenant administrator to [grant tenant administration consent](https://docs.microsoft.com/en-us/graph/auth-v2-service#3-get-administrator-consent) to your application. This is a one-time activity unless permissions change for the application. \n\nWhen your app is registered to call the Microsoft Graph Security API you need to pass the application ID and application secret from the above mentioned steps in to this sample. \n\nUse either plain text input to enter your secret in the `get_secret` function or get it from your envionment variable in the `get_secret` function below the first one. Use only one of these functions to get secret. "
    },
    {
      "metadata": {
        "trusted": true
      },
      "cell_type": "code",
      "source": "def get_secret(secret_name):\n    return {'GRAPHSEC_DEMO_appId':'<<Enter your registered application ID>>',\n            'GRAPHSEC_DEMO_appSecret':'<<Enter you application secret>>',\n            'GRAPHSEC_DEMO_tenantId':'<<Enter your tenant ID>>',\n            'VT_API_KEY':'<<Enter optional VirusTotal API Key>>'}[secret_name]",
      "execution_count": 1,
      "outputs": []
    },
    {
      "metadata": {
        "trusted": true
      },
      "cell_type": "code",
      "source": "## e.g. custom way to access secrets\ndef get_secret(secret_name):\n    import os\n    return os.environ.get(secret_name)",
      "execution_count": 2,
      "outputs": []
    },
    {
      "metadata": {
        "trusted": true
      },
      "cell_type": "code",
      "source": "appId = get_secret('GRAPHSEC_DEMO_appId')\nappSecret = get_secret('GRAPHSEC_DEMO_appSecret') \ntenantId = get_secret('GRAPHSEC_DEMO_tenantId')\nvt_api_key = get_secret('VT_API_KEY')\nprint(\"If your secrets were initialized properly you should see your tenant id.\\nTenant Id: %s \" % tenantId)",
      "execution_count": 3,
      "outputs": [
        {
          "output_type": "stream",
          "text": "If your secrets were initialized properly you should see your tenant id.\nTenant Id: None \n",
          "name": "stdout"
        }
      ]
    },
    {
      "metadata": {},
      "cell_type": "markdown",
      "source": "# Getting Started\nAll the API Wrapper code is below. Activate it by clicking in the cell and hitting Shift+Enter"
    },
    {
      "metadata": {
        "trusted": true
      },
      "cell_type": "code",
      "source": "# -------------------------------------------------------------------------\n# Copyright (c) Microsoft Corporation. All rights reserved.\n# Licensed under the MIT License. \n# --------------------------------------------------------------------------\n\n## https://aka.ms/graphsecuritydocs\n\nimport json\nimport urllib.request\nimport urllib.parse\nimport pandas as pd\nimport re\nfrom IPython.core.magic import (register_line_magic, register_cell_magic,\n                                register_line_cell_magic)\n\nSPLIT_DELIMS = '[\\[\\] ;\\n\\t|,xX\"\\']'\n@register_line_cell_magic\ndef hash(line, cell=None):\n    if cell is None:\n        return line\n    else:    \n        results = []\n        for f in re.split(SPLIT_DELIMS,cell):\n            p = re.compile('^[a-f0-9]{32}$'\n                           '|^[a-f0-9]{40}$'\n                           '|^[a-f0-9]{64}$'\n                           ,re.IGNORECASE)\n            if p.search(f) is not None:\n                if not f in results:\n                    results.append(f)\n        \n        return results           \n\n# We delete these to avoid name conflicts for automagic to work\ndel hash \n\n@register_line_cell_magic\ndef vthash(line, cell=None):\n    if cell is None:\n        return MsftGraphSec_api.vtresults([line])\n    else:    \n        results = []\n        for f in re.split(SPLIT_DELIMS,cell):\n            p = re.compile('^[a-f0-9]{32}$'\n                           '|^[a-f0-9]{40}$'\n                           '|^[a-f0-9]{64}$'\n                           ,re.IGNORECASE)\n            if p.search(f) is not None:\n                if not f in results:\n                    results.append(f)\n        \n        if len(results) == 0:\n            return\n        return MsftGraphSec_api.vtresults(results)\n           \n\n# We delete these to avoid name conflicts for automagic to work\ndel vthash \n\n@register_line_cell_magic\ndef graph_sec_file(line, cell=None):\n    if cell is None:\n        return MsftGraphSec_api.alerts(filehash=line)\n    else:    \n        results = []\n        for f in re.split(SPLIT_DELIMS,cell):\n            p = re.compile('^[a-f0-9]{32}$'\n                           '|^[a-f0-9]{40}$'\n                           '|^[a-f0-9]{64}$'\n                           ,re.IGNORECASE)\n            if p.search(f) is not None:\n                if not f in results:\n                    results.append(f)\n        \n        if len(results) == 0:\n            return\n        dfs = []\n        for filehash in results:\n            dfs.append(MsftGraphSec_api.alerts(filehash=filehash))\n        import pandas as pd\n        return pd.concat(dfs)\n            \n# Delete these to avoid name conflicts for automagic to work\ndel graph_sec_file\n\n@register_line_cell_magic\ndef graph_sec_machine(line, cell=None):\n    if cell is None:\n        if re.match('^[a-f0-9]{40}$', line):\n            return MsftGraphSec_api.machines(machineid=line)\n        else:\n            return MsftGraphSec_api.machines(filterstr=\"$filter=ComputerDnsName eq '%s'\" % line)\n    else:    \n        results = []\n        for f in re.split(SPLIT_DELIMS,cell):\n            p = re.compile('^[a-f0-9]{40}$',re.IGNORECASE)\n            if p.search(f) is not None:\n                if not f in results:\n                    results.append(f)\n        \n        dfs = []\n\n        # if we did not get any machine Ids, treat them as ComputerDnsNames\n        if len(results) == 0:\n            results = cell.split('\\n')\n            for hostname in results:\n                dfs.append(MsftGraphSec_api.machines(filterstr=\"$filter=ComputerDnsName eq '%s'\" % hostname))\n        else:\n            for machine_id in results:\n                dfs.append(MsftGraphSec_api.machines(machineid=machine_id))\n        import pandas as pd\n        return pd.concat(dfs)\n            \n# Delete these to avoid name conflicts for automagic to work\ndel graph_sec_machine \n\n@register_line_cell_magic\ndef graph_sec_alert(line, cell=None):\n    if cell is None:\n        return MsftGraphSec_api.alerts(alertid=line)\n    else:    \n        results = []\n        for f in re.split(SPLIT_DELIMS,cell):\n            p = re.compile('^[{(]?[0-9A-F]{8}[-]?(?:[0-9A-F]{4}[-]?){3}[0-9A-F]{12}[)}]?$',re.IGNORECASE)\n            if p.search(f) is not None:\n                if not f in results:\n                    results.append(f)\n        if len(results) == 0:\n            return\n        dfs = []\n        for alert_id in results:\n            dfs.append(MsftGraphSec_api.alerts(alertid=alert_id))\n        import pandas as pd\n        return pd.concat(dfs)\n\n# Delete these to avoid name conflicts for automagic to work\ndel graph_sec_alert \n\n@register_line_cell_magic\ndef graph_sec_ip(line, cell=None):\n    if cell is None:\n        return MsftGraphSec_api.ips(ip=line)\n    else:    \n        results = []\n        for f in re.split(SPLIT_DELIMS,cell):\n            p = re.compile('^\\d{1,3}\\.\\d{1,3}\\.\\d{1,3}\\.\\d{1,3}$')\n            if p.search(f) is not None:\n                if not f in results:\n                    results.append(f)\n        if len(results) == 0:\n            return\n        dfs = []\n        for ip in results:\n            dfs.append(MsftGraphSec_api.ips(ip=ip))\n        import pandas as pd\n        return pd.concat(dfs)\n            \n# Delete these to avoid name conflicts for automagic to work\ndel graph_sec_ip \n        \n@register_line_cell_magic\ndef graph_sec_action(line, cell=None):\n    if cell is None:\n        return MsftGraphSec_api.ips(ip=line)\n    else:    \n        results = []\n        for f in re.split(SPLIT_DELIMS,cell):\n            p = re.compile('^[a-f0-9]{8}'\n                       '-[a-f0-9]{4}'\n                       '-[a-f0-9]{4}'\n                       '-[a-f0-9]{4}'\n                       '-[a-f0-9]{12}$'\n                       ,re.IGNORECASE)\n            if p.search(f) is not None:\n                if not f in results:\n                    results.append(f)\n        if len(results) == 0:\n            return\n        dfs = []\n        for action in results:\n            dfs.append(MsftGraphSec_api.machine_actions(actionid = action))\n        import pandas as pd\n        return pd.concat(dfs)\n            \n# Delete these to avoid name conflicts for automagic to work\ndel graph_sec_action\n\n    \nclass MicrosoftGraphSecurityAPI:\n    def __init__(self, tenantId, appId, appSecret, vt_api_key=None, fUsePandas=True, \n                 api_root=\"https://graph.microsoft.com/\", api_version=\"v1.0\"):\n        url = \"https://login.microsoftonline.com/%s/oauth2/v2.0/token\" % (tenantId)\n\n        self.fDebug = False\n\n        body = {\n            'client_id' : appId,\n            'client_secret' : appSecret,\n            'grant_type' : 'client_credentials',\n            'scope': 'https://graph.microsoft.com/.default'\n        }\n\n        ## authenticate and obtain AAD Token for future calls\n        data = urllib.parse.urlencode(body).encode(\"utf-8\")\n        req = urllib.request.Request(url, data)\n        response = urllib.request.urlopen(req)\n        jsonResponse = json.loads(response.read().decode())\n        self.aadToken = jsonResponse[\"access_token\"]\n        self.headers = { \n            'Content-Type' : 'application/json',\n            'Accept' : 'application/json',\n            'Authorization' : \"Bearer \" + self.aadToken\n        }\n        self.fUsePandas = fUsePandas # use pandas DataFrame for collections of objects, else return a list\n        self.api_root = api_root + api_version \n        self.vt_api_key = vt_api_key\n        if len(self.aadToken) > 0:\n            print(\"Connected.\")\n    \n    def set_output_type(self, fUsePandas=True):\n        self.fUsePandas = fUsePandas    \n\n    def set_debug_output(self, fDebug=True):\n        self.fDebug = fDebug    \n        \n    def __validate_arguments(self,args, valid_params):\n        if len(args) == 0:\n            raise ValueError ('argument must be one of %s' % str(list(valid_params.keys())))\n        elif len(args) > 1:\n            raise ValueError ('only one id can be used at a time')\n        else:\n            selector = next(iter(args))\n            selector_value= next(iter(args.values()))\n            if selector not in list(valid_params.keys()):\n                raise ValueError ('argument must be one of %s' % str(list(valid_params.keys())))\n        return (selector, selector_value)\n\n    def __make_request(self,url, params=None):\n \n        if self.fDebug:\n            print(url)\n        req = urllib.request.Request(url, headers=self.headers)\n        try:\n            response = urllib.request.urlopen(req)\n        except urllib.error.HTTPError as e:\n            raise e\n                \n        jsonResponse = json.loads(response.read().decode())\n        if type(jsonResponse) == int:\n            if self.fUsePandas:\n                return pd.DataFrame([jsonResponse])\n            else:\n                return jsonResponse\n        if 'value' in jsonResponse:\n            res = jsonResponse[\"value\"]\n            if len(res) == 0:\n                res = {}\n        else:\n            res = jsonResponse     \n        if self.fUsePandas:\n            return pd.io.json.json_normalize(res)\n        return res\n\n    def __prepare_param_dict_from_filter_str(self, filterstr):\n        get_params = {}\n        for filter_param in re.split(\"[\\?\\&]+\", filterstr):\n            if len(filter_param)> 0:\n                attr = filter_param.split('=')[0]\n                val  = filter_param.split('=')[1]\n                get_params[attr]= val\n        return get_params\n    \n    def alerts(self, **kwargs):\n        alert_url = self.api_root + \"/security/alerts\"\n        get_params = None\n        \n        valid_params = {\n            'filterstr' : alert_url + '?%s',\n            'alertid'   : alert_url + '/%s',\n            'userid'    : alert_url + \"?$filter=userStates/any(d:d/userPrincipalName eq '%s')\",\n            'ip'        : alert_url + \"?$filter=hostStates/any(d:d/privateIpAddress eq '%s')\",\n            'hostfqdn'  : alert_url + \"?$filter=hostStates/any(d:d/fqdn eq '%s')\", \n            'filehash'  : alert_url + \"?$filter=fileStates/any(d:d/fileHash/hashValue eq '%s')\",\n            'filename'  : alert_url + \"?$filter=fileStates/any(d:d/name eq '%s')\", \n            'domain'    : alert_url + \"?$filter=networkConnections/any(d:d/destinationDomain eq '%s')\" \n        }\n        (selector, selector_value) = self.__validate_arguments(kwargs, valid_params)\n        \n        if selector == 'filterstr':\n            get_params = self.__prepare_param_dict_from_filter_str(selector_value)\n            if get_params is not None:\n                url = valid_params[selector] % urllib.parse.urlencode(get_params)\n        else:\n            url = valid_params[selector] % selector_value\n            url = urllib.parse.quote( url , safe=\"%/:=&?~#+!$,;'@()*[]\") # Url encode spaces \n\n        return self.__make_request(url)\n    \n    def update_alert(self, alertid=None, alertbody=None):\n        import requests \n\n        alert_url = self.api_root + \"/security/alerts\"\n        \n        valid_params = {\n            'alertid'   : alert_url + '/%s'\n        }\n        (selector, selector_value) = self.__validate_arguments(alertid, valid_params)\n        \n        if alertbody == None:\n            raise ValueError ('Request body cannot be empty')\n            \n        headers = self.headers\n        headers['Prefer'] = \"return=representation\"\n        \n        oldalert = self.alerts(alertid=alertid)\n        \n        \n        url = valid_params[selector] % selector_value\n        response = requests.patch(url, data, headers=headers)\n\n        jsonResponse = response.json()\n\n        if self.fUsePandas:\n            return pd.io.json.json_normalize(jsonResponse)\n        return r.json()\n\n       \n    def users(self, **kwargs):\n        user_url = self.api_root + \"/users\"\n        \n        valid_params = {\n            'userid'    : user_url + '/%s'\n        }\n        \n        (selector, selector_value) = self.__validate_arguments(kwargs, valid_params)\n        \n        url = valid_params[selector] % selector_value\n\n        return self.__make_request(url)\n     \n   \n    def vtresults(self, hashlist):\n        import requests \n\n        url = \"https://www.virustotal.com/vtapi/v2/file/report\"\n\n        headers = {'User-Agent':'VirusTotal',\n                    'Content-Type':'application/json'}\n        if type(hashlist) == str:\n            hashlist = [hashlist]\n        \n        data = {\"resource\": ','.join(hashlist),\n                \"apikey\": self.vt_api_key}\n\n        response = requests.get(url, data, headers=headers)\n\n        jsonResponse = response.json()\n\n        if self.fUsePandas:\n            return pd.io.json.json_normalize(jsonResponse)\n        return r.json()\n    \nprint(\"Sample Microsoft Graph Security API code loaded\")",
      "execution_count": 4,
      "outputs": [
        {
          "output_type": "stream",
          "text": "Sample Microsoft Graph Security API code loaded\n",
          "name": "stdout"
        }
      ]
    },
    {
      "metadata": {
        "trusted": true
      },
      "cell_type": "code",
      "source": "# hit Shift-Enter in this cell\n\n# NOTE: endpoint authorization will periodically time out and you will need to re-run this command to re-authenticate\n# if you're able to call the API (client app registered properly), and you get an exception \n# with a HTTP error 401 Unauthorized, re-run this command to re-initiate the endpoint\n\nMsftGraphSec_api = MicrosoftGraphSecurityAPI(tenantId, appId, appSecret, vt_api_key)\nMsftGraphSec_api.set_debug_output()",
      "execution_count": 5,
      "outputs": [
        {
          "output_type": "error",
          "ename": "HTTPError",
          "evalue": "HTTP Error 400: Bad Request",
          "traceback": [
            "\u001b[0;31m---------------------------------------------------------------------------\u001b[0m",
            "\u001b[0;31mHTTPError\u001b[0m                                 Traceback (most recent call last)",
            "\u001b[0;32m<ipython-input-5-0ba181d470c9>\u001b[0m in \u001b[0;36m<module>\u001b[0;34m\u001b[0m\n\u001b[1;32m      5\u001b[0m \u001b[0;31m# with a HTTP error 401 Unauthorized, re-run this command to re-initiate the endpoint\u001b[0m\u001b[0;34m\u001b[0m\u001b[0;34m\u001b[0m\u001b[0m\n\u001b[1;32m      6\u001b[0m \u001b[0;34m\u001b[0m\u001b[0m\n\u001b[0;32m----> 7\u001b[0;31m \u001b[0mMsftGraphSec_api\u001b[0m \u001b[0;34m=\u001b[0m \u001b[0mMicrosoftGraphSecurityAPI\u001b[0m\u001b[0;34m(\u001b[0m\u001b[0mtenantId\u001b[0m\u001b[0;34m,\u001b[0m \u001b[0mappId\u001b[0m\u001b[0;34m,\u001b[0m \u001b[0mappSecret\u001b[0m\u001b[0;34m,\u001b[0m \u001b[0mvt_api_key\u001b[0m\u001b[0;34m)\u001b[0m\u001b[0;34m\u001b[0m\u001b[0m\n\u001b[0m\u001b[1;32m      8\u001b[0m \u001b[0mMsftGraphSec_api\u001b[0m\u001b[0;34m.\u001b[0m\u001b[0mset_debug_output\u001b[0m\u001b[0;34m(\u001b[0m\u001b[0;34m)\u001b[0m\u001b[0;34m\u001b[0m\u001b[0m\n",
            "\u001b[0;32m<ipython-input-4-25df83ac6b18>\u001b[0m in \u001b[0;36m__init__\u001b[0;34m(self, tenantId, appId, appSecret, vt_api_key, fUsePandas, api_root, api_version)\u001b[0m\n\u001b[1;32m    204\u001b[0m         \u001b[0mdata\u001b[0m \u001b[0;34m=\u001b[0m \u001b[0murllib\u001b[0m\u001b[0;34m.\u001b[0m\u001b[0mparse\u001b[0m\u001b[0;34m.\u001b[0m\u001b[0murlencode\u001b[0m\u001b[0;34m(\u001b[0m\u001b[0mbody\u001b[0m\u001b[0;34m)\u001b[0m\u001b[0;34m.\u001b[0m\u001b[0mencode\u001b[0m\u001b[0;34m(\u001b[0m\u001b[0;34m\"utf-8\"\u001b[0m\u001b[0;34m)\u001b[0m\u001b[0;34m\u001b[0m\u001b[0m\n\u001b[1;32m    205\u001b[0m         \u001b[0mreq\u001b[0m \u001b[0;34m=\u001b[0m \u001b[0murllib\u001b[0m\u001b[0;34m.\u001b[0m\u001b[0mrequest\u001b[0m\u001b[0;34m.\u001b[0m\u001b[0mRequest\u001b[0m\u001b[0;34m(\u001b[0m\u001b[0murl\u001b[0m\u001b[0;34m,\u001b[0m \u001b[0mdata\u001b[0m\u001b[0;34m)\u001b[0m\u001b[0;34m\u001b[0m\u001b[0m\n\u001b[0;32m--> 206\u001b[0;31m         \u001b[0mresponse\u001b[0m \u001b[0;34m=\u001b[0m \u001b[0murllib\u001b[0m\u001b[0;34m.\u001b[0m\u001b[0mrequest\u001b[0m\u001b[0;34m.\u001b[0m\u001b[0murlopen\u001b[0m\u001b[0;34m(\u001b[0m\u001b[0mreq\u001b[0m\u001b[0;34m)\u001b[0m\u001b[0;34m\u001b[0m\u001b[0m\n\u001b[0m\u001b[1;32m    207\u001b[0m         \u001b[0mjsonResponse\u001b[0m \u001b[0;34m=\u001b[0m \u001b[0mjson\u001b[0m\u001b[0;34m.\u001b[0m\u001b[0mloads\u001b[0m\u001b[0;34m(\u001b[0m\u001b[0mresponse\u001b[0m\u001b[0;34m.\u001b[0m\u001b[0mread\u001b[0m\u001b[0;34m(\u001b[0m\u001b[0;34m)\u001b[0m\u001b[0;34m.\u001b[0m\u001b[0mdecode\u001b[0m\u001b[0;34m(\u001b[0m\u001b[0;34m)\u001b[0m\u001b[0;34m)\u001b[0m\u001b[0;34m\u001b[0m\u001b[0m\n\u001b[1;32m    208\u001b[0m         \u001b[0mself\u001b[0m\u001b[0;34m.\u001b[0m\u001b[0maadToken\u001b[0m \u001b[0;34m=\u001b[0m \u001b[0mjsonResponse\u001b[0m\u001b[0;34m[\u001b[0m\u001b[0;34m\"access_token\"\u001b[0m\u001b[0;34m]\u001b[0m\u001b[0;34m\u001b[0m\u001b[0m\n",
            "\u001b[0;32m~/anaconda3_501/lib/python3.6/urllib/request.py\u001b[0m in \u001b[0;36murlopen\u001b[0;34m(url, data, timeout, cafile, capath, cadefault, context)\u001b[0m\n\u001b[1;32m    221\u001b[0m     \u001b[0;32melse\u001b[0m\u001b[0;34m:\u001b[0m\u001b[0;34m\u001b[0m\u001b[0m\n\u001b[1;32m    222\u001b[0m         \u001b[0mopener\u001b[0m \u001b[0;34m=\u001b[0m \u001b[0m_opener\u001b[0m\u001b[0;34m\u001b[0m\u001b[0m\n\u001b[0;32m--> 223\u001b[0;31m     \u001b[0;32mreturn\u001b[0m \u001b[0mopener\u001b[0m\u001b[0;34m.\u001b[0m\u001b[0mopen\u001b[0m\u001b[0;34m(\u001b[0m\u001b[0murl\u001b[0m\u001b[0;34m,\u001b[0m \u001b[0mdata\u001b[0m\u001b[0;34m,\u001b[0m \u001b[0mtimeout\u001b[0m\u001b[0;34m)\u001b[0m\u001b[0;34m\u001b[0m\u001b[0m\n\u001b[0m\u001b[1;32m    224\u001b[0m \u001b[0;34m\u001b[0m\u001b[0m\n\u001b[1;32m    225\u001b[0m \u001b[0;32mdef\u001b[0m \u001b[0minstall_opener\u001b[0m\u001b[0;34m(\u001b[0m\u001b[0mopener\u001b[0m\u001b[0;34m)\u001b[0m\u001b[0;34m:\u001b[0m\u001b[0;34m\u001b[0m\u001b[0m\n",
            "\u001b[0;32m~/anaconda3_501/lib/python3.6/urllib/request.py\u001b[0m in \u001b[0;36mopen\u001b[0;34m(self, fullurl, data, timeout)\u001b[0m\n\u001b[1;32m    530\u001b[0m         \u001b[0;32mfor\u001b[0m \u001b[0mprocessor\u001b[0m \u001b[0;32min\u001b[0m \u001b[0mself\u001b[0m\u001b[0;34m.\u001b[0m\u001b[0mprocess_response\u001b[0m\u001b[0;34m.\u001b[0m\u001b[0mget\u001b[0m\u001b[0;34m(\u001b[0m\u001b[0mprotocol\u001b[0m\u001b[0;34m,\u001b[0m \u001b[0;34m[\u001b[0m\u001b[0;34m]\u001b[0m\u001b[0;34m)\u001b[0m\u001b[0;34m:\u001b[0m\u001b[0;34m\u001b[0m\u001b[0m\n\u001b[1;32m    531\u001b[0m             \u001b[0mmeth\u001b[0m \u001b[0;34m=\u001b[0m \u001b[0mgetattr\u001b[0m\u001b[0;34m(\u001b[0m\u001b[0mprocessor\u001b[0m\u001b[0;34m,\u001b[0m \u001b[0mmeth_name\u001b[0m\u001b[0;34m)\u001b[0m\u001b[0;34m\u001b[0m\u001b[0m\n\u001b[0;32m--> 532\u001b[0;31m             \u001b[0mresponse\u001b[0m \u001b[0;34m=\u001b[0m \u001b[0mmeth\u001b[0m\u001b[0;34m(\u001b[0m\u001b[0mreq\u001b[0m\u001b[0;34m,\u001b[0m \u001b[0mresponse\u001b[0m\u001b[0;34m)\u001b[0m\u001b[0;34m\u001b[0m\u001b[0m\n\u001b[0m\u001b[1;32m    533\u001b[0m \u001b[0;34m\u001b[0m\u001b[0m\n\u001b[1;32m    534\u001b[0m         \u001b[0;32mreturn\u001b[0m \u001b[0mresponse\u001b[0m\u001b[0;34m\u001b[0m\u001b[0m\n",
            "\u001b[0;32m~/anaconda3_501/lib/python3.6/urllib/request.py\u001b[0m in \u001b[0;36mhttp_response\u001b[0;34m(self, request, response)\u001b[0m\n\u001b[1;32m    640\u001b[0m         \u001b[0;32mif\u001b[0m \u001b[0;32mnot\u001b[0m \u001b[0;34m(\u001b[0m\u001b[0;36m200\u001b[0m \u001b[0;34m<=\u001b[0m \u001b[0mcode\u001b[0m \u001b[0;34m<\u001b[0m \u001b[0;36m300\u001b[0m\u001b[0;34m)\u001b[0m\u001b[0;34m:\u001b[0m\u001b[0;34m\u001b[0m\u001b[0m\n\u001b[1;32m    641\u001b[0m             response = self.parent.error(\n\u001b[0;32m--> 642\u001b[0;31m                 'http', request, response, code, msg, hdrs)\n\u001b[0m\u001b[1;32m    643\u001b[0m \u001b[0;34m\u001b[0m\u001b[0m\n\u001b[1;32m    644\u001b[0m         \u001b[0;32mreturn\u001b[0m \u001b[0mresponse\u001b[0m\u001b[0;34m\u001b[0m\u001b[0m\n",
            "\u001b[0;32m~/anaconda3_501/lib/python3.6/urllib/request.py\u001b[0m in \u001b[0;36merror\u001b[0;34m(self, proto, *args)\u001b[0m\n\u001b[1;32m    568\u001b[0m         \u001b[0;32mif\u001b[0m \u001b[0mhttp_err\u001b[0m\u001b[0;34m:\u001b[0m\u001b[0;34m\u001b[0m\u001b[0m\n\u001b[1;32m    569\u001b[0m             \u001b[0margs\u001b[0m \u001b[0;34m=\u001b[0m \u001b[0;34m(\u001b[0m\u001b[0mdict\u001b[0m\u001b[0;34m,\u001b[0m \u001b[0;34m'default'\u001b[0m\u001b[0;34m,\u001b[0m \u001b[0;34m'http_error_default'\u001b[0m\u001b[0;34m)\u001b[0m \u001b[0;34m+\u001b[0m \u001b[0morig_args\u001b[0m\u001b[0;34m\u001b[0m\u001b[0m\n\u001b[0;32m--> 570\u001b[0;31m             \u001b[0;32mreturn\u001b[0m \u001b[0mself\u001b[0m\u001b[0;34m.\u001b[0m\u001b[0m_call_chain\u001b[0m\u001b[0;34m(\u001b[0m\u001b[0;34m*\u001b[0m\u001b[0margs\u001b[0m\u001b[0;34m)\u001b[0m\u001b[0;34m\u001b[0m\u001b[0m\n\u001b[0m\u001b[1;32m    571\u001b[0m \u001b[0;34m\u001b[0m\u001b[0m\n\u001b[1;32m    572\u001b[0m \u001b[0;31m# XXX probably also want an abstract factory that knows when it makes\u001b[0m\u001b[0;34m\u001b[0m\u001b[0;34m\u001b[0m\u001b[0m\n",
            "\u001b[0;32m~/anaconda3_501/lib/python3.6/urllib/request.py\u001b[0m in \u001b[0;36m_call_chain\u001b[0;34m(self, chain, kind, meth_name, *args)\u001b[0m\n\u001b[1;32m    502\u001b[0m         \u001b[0;32mfor\u001b[0m \u001b[0mhandler\u001b[0m \u001b[0;32min\u001b[0m \u001b[0mhandlers\u001b[0m\u001b[0;34m:\u001b[0m\u001b[0;34m\u001b[0m\u001b[0m\n\u001b[1;32m    503\u001b[0m             \u001b[0mfunc\u001b[0m \u001b[0;34m=\u001b[0m \u001b[0mgetattr\u001b[0m\u001b[0;34m(\u001b[0m\u001b[0mhandler\u001b[0m\u001b[0;34m,\u001b[0m \u001b[0mmeth_name\u001b[0m\u001b[0;34m)\u001b[0m\u001b[0;34m\u001b[0m\u001b[0m\n\u001b[0;32m--> 504\u001b[0;31m             \u001b[0mresult\u001b[0m \u001b[0;34m=\u001b[0m \u001b[0mfunc\u001b[0m\u001b[0;34m(\u001b[0m\u001b[0;34m*\u001b[0m\u001b[0margs\u001b[0m\u001b[0;34m)\u001b[0m\u001b[0;34m\u001b[0m\u001b[0m\n\u001b[0m\u001b[1;32m    505\u001b[0m             \u001b[0;32mif\u001b[0m \u001b[0mresult\u001b[0m \u001b[0;32mis\u001b[0m \u001b[0;32mnot\u001b[0m \u001b[0;32mNone\u001b[0m\u001b[0;34m:\u001b[0m\u001b[0;34m\u001b[0m\u001b[0m\n\u001b[1;32m    506\u001b[0m                 \u001b[0;32mreturn\u001b[0m \u001b[0mresult\u001b[0m\u001b[0;34m\u001b[0m\u001b[0m\n",
            "\u001b[0;32m~/anaconda3_501/lib/python3.6/urllib/request.py\u001b[0m in \u001b[0;36mhttp_error_default\u001b[0;34m(self, req, fp, code, msg, hdrs)\u001b[0m\n\u001b[1;32m    648\u001b[0m \u001b[0;32mclass\u001b[0m \u001b[0mHTTPDefaultErrorHandler\u001b[0m\u001b[0;34m(\u001b[0m\u001b[0mBaseHandler\u001b[0m\u001b[0;34m)\u001b[0m\u001b[0;34m:\u001b[0m\u001b[0;34m\u001b[0m\u001b[0m\n\u001b[1;32m    649\u001b[0m     \u001b[0;32mdef\u001b[0m \u001b[0mhttp_error_default\u001b[0m\u001b[0;34m(\u001b[0m\u001b[0mself\u001b[0m\u001b[0;34m,\u001b[0m \u001b[0mreq\u001b[0m\u001b[0;34m,\u001b[0m \u001b[0mfp\u001b[0m\u001b[0;34m,\u001b[0m \u001b[0mcode\u001b[0m\u001b[0;34m,\u001b[0m \u001b[0mmsg\u001b[0m\u001b[0;34m,\u001b[0m \u001b[0mhdrs\u001b[0m\u001b[0;34m)\u001b[0m\u001b[0;34m:\u001b[0m\u001b[0;34m\u001b[0m\u001b[0m\n\u001b[0;32m--> 650\u001b[0;31m         \u001b[0;32mraise\u001b[0m \u001b[0mHTTPError\u001b[0m\u001b[0;34m(\u001b[0m\u001b[0mreq\u001b[0m\u001b[0;34m.\u001b[0m\u001b[0mfull_url\u001b[0m\u001b[0;34m,\u001b[0m \u001b[0mcode\u001b[0m\u001b[0;34m,\u001b[0m \u001b[0mmsg\u001b[0m\u001b[0;34m,\u001b[0m \u001b[0mhdrs\u001b[0m\u001b[0;34m,\u001b[0m \u001b[0mfp\u001b[0m\u001b[0;34m)\u001b[0m\u001b[0;34m\u001b[0m\u001b[0m\n\u001b[0m\u001b[1;32m    651\u001b[0m \u001b[0;34m\u001b[0m\u001b[0m\n\u001b[1;32m    652\u001b[0m \u001b[0;32mclass\u001b[0m \u001b[0mHTTPRedirectHandler\u001b[0m\u001b[0;34m(\u001b[0m\u001b[0mBaseHandler\u001b[0m\u001b[0;34m)\u001b[0m\u001b[0;34m:\u001b[0m\u001b[0;34m\u001b[0m\u001b[0m\n",
            "\u001b[0;31mHTTPError\u001b[0m: HTTP Error 400: Bad Request"
          ]
        }
      ]
    },
    {
      "metadata": {
        "trusted": true
      },
      "cell_type": "code",
      "source": "MsftGraphSec_api.alerts(alertid=\"<<Enter alert ID here>>\")[['vendorInformation.provider','vendorInformation.vendor']].to_json(orient='records')",
      "execution_count": 6,
      "outputs": [
        {
          "output_type": "error",
          "ename": "NameError",
          "evalue": "name 'MsftGraphSec_api' is not defined",
          "traceback": [
            "\u001b[0;31m---------------------------------------------------------------------------\u001b[0m",
            "\u001b[0;31mNameError\u001b[0m                                 Traceback (most recent call last)",
            "\u001b[0;32m<ipython-input-6-b8bc508c1a9a>\u001b[0m in \u001b[0;36m<module>\u001b[0;34m\u001b[0m\n\u001b[0;32m----> 1\u001b[0;31m \u001b[0mMsftGraphSec_api\u001b[0m\u001b[0;34m.\u001b[0m\u001b[0malerts\u001b[0m\u001b[0;34m(\u001b[0m\u001b[0malertid\u001b[0m\u001b[0;34m=\u001b[0m\u001b[0;34m\"0F73E38F-BA78-49F7-A71C-0A37D329E808\"\u001b[0m\u001b[0;34m)\u001b[0m\u001b[0;34m[\u001b[0m\u001b[0;34m[\u001b[0m\u001b[0;34m'vendorInformation.provider'\u001b[0m\u001b[0;34m,\u001b[0m\u001b[0;34m'vendorInformation.vendor'\u001b[0m\u001b[0;34m]\u001b[0m\u001b[0;34m]\u001b[0m\u001b[0;34m.\u001b[0m\u001b[0mto_json\u001b[0m\u001b[0;34m(\u001b[0m\u001b[0morient\u001b[0m\u001b[0;34m=\u001b[0m\u001b[0;34m'records'\u001b[0m\u001b[0;34m)\u001b[0m\u001b[0;34m\u001b[0m\u001b[0m\n\u001b[0m",
            "\u001b[0;31mNameError\u001b[0m: name 'MsftGraphSec_api' is not defined"
          ]
        }
      ]
    },
    {
      "metadata": {},
      "cell_type": "markdown",
      "source": "# Get Alerts\n\nLet's query the most recent 5 alerts using the OData TOP keyword. The `$top=5` query will return 5 of the most recent alerts from *each* [Microsoft Graph Security alert provider](https://aka.ms/graphsecurityalerts). "
    },
    {
      "metadata": {
        "trusted": true
      },
      "cell_type": "code",
      "source": "MsftGraphSec_api.alerts(filterstr = \"$top=5\")",
      "execution_count": 7,
      "outputs": [
        {
          "output_type": "error",
          "ename": "NameError",
          "evalue": "name 'MsftGraphSec_api' is not defined",
          "traceback": [
            "\u001b[0;31m---------------------------------------------------------------------------\u001b[0m",
            "\u001b[0;31mNameError\u001b[0m                                 Traceback (most recent call last)",
            "\u001b[0;32m<ipython-input-7-49a26f46281e>\u001b[0m in \u001b[0;36m<module>\u001b[0;34m\u001b[0m\n\u001b[0;32m----> 1\u001b[0;31m \u001b[0mMsftGraphSec_api\u001b[0m\u001b[0;34m.\u001b[0m\u001b[0malerts\u001b[0m\u001b[0;34m(\u001b[0m\u001b[0mfilterstr\u001b[0m \u001b[0;34m=\u001b[0m \u001b[0;34m\"$top=5\"\u001b[0m\u001b[0;34m)\u001b[0m\u001b[0;34m\u001b[0m\u001b[0m\n\u001b[0m",
            "\u001b[0;31mNameError\u001b[0m: name 'MsftGraphSec_api' is not defined"
          ]
        }
      ]
    },
    {
      "metadata": {},
      "cell_type": "markdown",
      "source": "# Security Management and Monitoring Scenarios\n## List high severity alerts \nYou can [query alerts](https://docs.microsoft.com/en-us/graph/api/alert-list?view=graph-rest-1.0) with OData queries. OData provides a simple standardized syntax for selecting properties and filtering data\n\nA summary of the OData filters can be found [here](https://docs.microsoft.com/graph/query-parameters) <https://docs.microsoft.com/graph/query-parameters>"
    },
    {
      "metadata": {
        "trusted": true
      },
      "cell_type": "code",
      "source": "# get the top high-sev 5 alerts and select a few columns \nMsftGraphSec_api.alerts(filterstr = \"$select=createdDateTime,category,title,description,id,severity,assignedTo&$filter=Severity eq 'High'&$top=5\")",
      "execution_count": 8,
      "outputs": [
        {
          "output_type": "error",
          "ename": "NameError",
          "evalue": "name 'MsftGraphSec_api' is not defined",
          "traceback": [
            "\u001b[0;31m---------------------------------------------------------------------------\u001b[0m",
            "\u001b[0;31mNameError\u001b[0m                                 Traceback (most recent call last)",
            "\u001b[0;32m<ipython-input-8-d33d55e238b3>\u001b[0m in \u001b[0;36m<module>\u001b[0;34m\u001b[0m\n\u001b[1;32m      1\u001b[0m \u001b[0;31m# get the top high-sev 5 alerts and select a few columns\u001b[0m\u001b[0;34m\u001b[0m\u001b[0;34m\u001b[0m\u001b[0m\n\u001b[0;32m----> 2\u001b[0;31m \u001b[0mMsftGraphSec_api\u001b[0m\u001b[0;34m.\u001b[0m\u001b[0malerts\u001b[0m\u001b[0;34m(\u001b[0m\u001b[0mfilterstr\u001b[0m \u001b[0;34m=\u001b[0m \u001b[0;34m\"$select=createdDateTime,category,title,description,id,severity,assignedTo&$filter=Severity eq 'High'&$top=5\"\u001b[0m\u001b[0;34m)\u001b[0m\u001b[0;34m\u001b[0m\u001b[0m\n\u001b[0m",
            "\u001b[0;31mNameError\u001b[0m: name 'MsftGraphSec_api' is not defined"
          ]
        }
      ]
    },
    {
      "metadata": {},
      "cell_type": "markdown",
      "source": "## Analyzing Security Data   \n\nThe results are returned as a Pandas DataFrame--a handy data structure for processing rowset oriented results. If you don't want the results in a DataFrame and instead just in a list, you can set `fUsePandas=False` when you create the MicrosoftGraphSecurityAPI class.\n\nSee the [Pandas project page](https://pandas.pydata.org/pandas-docs/stable/index.html) for more information on DataFrames."
    },
    {
      "metadata": {
        "trusted": true
      },
      "cell_type": "code",
      "source": "# let's assign the API results to a variable so we can process them without making an API call each time\ndf = MsftGraphSec_api.alerts(filterstr = \"$top=25&$filter=Severity eq 'High'\")\nprint(\"number of rows returned = %d\" % len(df))",
      "execution_count": 9,
      "outputs": [
        {
          "output_type": "error",
          "ename": "NameError",
          "evalue": "name 'MsftGraphSec_api' is not defined",
          "traceback": [
            "\u001b[0;31m---------------------------------------------------------------------------\u001b[0m",
            "\u001b[0;31mNameError\u001b[0m                                 Traceback (most recent call last)",
            "\u001b[0;32m<ipython-input-9-98166fe0408e>\u001b[0m in \u001b[0;36m<module>\u001b[0;34m\u001b[0m\n\u001b[1;32m      1\u001b[0m \u001b[0;31m# let's assign the API results to a variable so we can process them without making an API call each time\u001b[0m\u001b[0;34m\u001b[0m\u001b[0;34m\u001b[0m\u001b[0m\n\u001b[0;32m----> 2\u001b[0;31m \u001b[0mdf\u001b[0m \u001b[0;34m=\u001b[0m \u001b[0mMsftGraphSec_api\u001b[0m\u001b[0;34m.\u001b[0m\u001b[0malerts\u001b[0m\u001b[0;34m(\u001b[0m\u001b[0mfilterstr\u001b[0m \u001b[0;34m=\u001b[0m \u001b[0;34m\"$top=25&$filter=Severity eq 'High'\"\u001b[0m\u001b[0;34m)\u001b[0m\u001b[0;34m\u001b[0m\u001b[0m\n\u001b[0m\u001b[1;32m      3\u001b[0m \u001b[0mprint\u001b[0m\u001b[0;34m(\u001b[0m\u001b[0;34m\"number of rows returned = %d\"\u001b[0m \u001b[0;34m%\u001b[0m \u001b[0mlen\u001b[0m\u001b[0;34m(\u001b[0m\u001b[0mdf\u001b[0m\u001b[0;34m)\u001b[0m\u001b[0;34m)\u001b[0m\u001b[0;34m\u001b[0m\u001b[0m\n",
            "\u001b[0;31mNameError\u001b[0m: name 'MsftGraphSec_api' is not defined"
          ]
        }
      ]
    },
    {
      "metadata": {
        "trusted": true
      },
      "cell_type": "code",
      "source": "# show all the columns in the alert entity\ndf.columns",
      "execution_count": 10,
      "outputs": [
        {
          "output_type": "error",
          "ename": "NameError",
          "evalue": "name 'df' is not defined",
          "traceback": [
            "\u001b[0;31m---------------------------------------------------------------------------\u001b[0m",
            "\u001b[0;31mNameError\u001b[0m                                 Traceback (most recent call last)",
            "\u001b[0;32m<ipython-input-10-62608f4a46d0>\u001b[0m in \u001b[0;36m<module>\u001b[0;34m\u001b[0m\n\u001b[1;32m      1\u001b[0m \u001b[0;31m# show all the columns in the alert entity\u001b[0m\u001b[0;34m\u001b[0m\u001b[0;34m\u001b[0m\u001b[0m\n\u001b[0;32m----> 2\u001b[0;31m \u001b[0mdf\u001b[0m\u001b[0;34m.\u001b[0m\u001b[0mcolumns\u001b[0m\u001b[0;34m\u001b[0m\u001b[0m\n\u001b[0m",
            "\u001b[0;31mNameError\u001b[0m: name 'df' is not defined"
          ]
        }
      ]
    },
    {
      "metadata": {
        "trusted": true
      },
      "cell_type": "code",
      "source": "# Let's select just the columns we want to view. This uses the Pandas syntax for selecting columns\n\ndf[['createdDateTime','category','description','id','severity']].head(5)",
      "execution_count": 11,
      "outputs": [
        {
          "output_type": "error",
          "ename": "NameError",
          "evalue": "name 'df' is not defined",
          "traceback": [
            "\u001b[0;31m---------------------------------------------------------------------------\u001b[0m",
            "\u001b[0;31mNameError\u001b[0m                                 Traceback (most recent call last)",
            "\u001b[0;32m<ipython-input-11-50ba99c747e8>\u001b[0m in \u001b[0;36m<module>\u001b[0;34m\u001b[0m\n\u001b[1;32m      1\u001b[0m \u001b[0;31m# Let's select just the columns we want to view. This uses the Pandas syntax for selecting columns\u001b[0m\u001b[0;34m\u001b[0m\u001b[0;34m\u001b[0m\u001b[0m\n\u001b[1;32m      2\u001b[0m \u001b[0;34m\u001b[0m\u001b[0m\n\u001b[0;32m----> 3\u001b[0;31m \u001b[0mdf\u001b[0m\u001b[0;34m[\u001b[0m\u001b[0;34m[\u001b[0m\u001b[0;34m'createdDateTime'\u001b[0m\u001b[0;34m,\u001b[0m\u001b[0;34m'category'\u001b[0m\u001b[0;34m,\u001b[0m\u001b[0;34m'description'\u001b[0m\u001b[0;34m,\u001b[0m\u001b[0;34m'id'\u001b[0m\u001b[0;34m,\u001b[0m\u001b[0;34m'severity'\u001b[0m\u001b[0;34m]\u001b[0m\u001b[0;34m]\u001b[0m\u001b[0;34m.\u001b[0m\u001b[0mhead\u001b[0m\u001b[0;34m(\u001b[0m\u001b[0;36m5\u001b[0m\u001b[0;34m)\u001b[0m\u001b[0;34m\u001b[0m\u001b[0m\n\u001b[0m",
            "\u001b[0;31mNameError\u001b[0m: name 'df' is not defined"
          ]
        }
      ]
    },
    {
      "metadata": {
        "trusted": true
      },
      "cell_type": "code",
      "source": "# let's group them by title and count their frequency\ndf1 = df[['id','title']].groupby('title').count().rename(index=str, columns={\"id\":\"Alert Count\"})\ndf1 = df1.sort_values(['Alert Count'], ascending=False)\ndf1",
      "execution_count": 12,
      "outputs": [
        {
          "output_type": "error",
          "ename": "NameError",
          "evalue": "name 'df' is not defined",
          "traceback": [
            "\u001b[0;31m---------------------------------------------------------------------------\u001b[0m",
            "\u001b[0;31mNameError\u001b[0m                                 Traceback (most recent call last)",
            "\u001b[0;32m<ipython-input-12-e3404c7f670b>\u001b[0m in \u001b[0;36m<module>\u001b[0;34m\u001b[0m\n\u001b[1;32m      1\u001b[0m \u001b[0;31m# let's group them by title and count their frequency\u001b[0m\u001b[0;34m\u001b[0m\u001b[0;34m\u001b[0m\u001b[0m\n\u001b[0;32m----> 2\u001b[0;31m \u001b[0mdf1\u001b[0m \u001b[0;34m=\u001b[0m \u001b[0mdf\u001b[0m\u001b[0;34m[\u001b[0m\u001b[0;34m[\u001b[0m\u001b[0;34m'id'\u001b[0m\u001b[0;34m,\u001b[0m\u001b[0;34m'title'\u001b[0m\u001b[0;34m]\u001b[0m\u001b[0;34m]\u001b[0m\u001b[0;34m.\u001b[0m\u001b[0mgroupby\u001b[0m\u001b[0;34m(\u001b[0m\u001b[0;34m'title'\u001b[0m\u001b[0;34m)\u001b[0m\u001b[0;34m.\u001b[0m\u001b[0mcount\u001b[0m\u001b[0;34m(\u001b[0m\u001b[0;34m)\u001b[0m\u001b[0;34m.\u001b[0m\u001b[0mrename\u001b[0m\u001b[0;34m(\u001b[0m\u001b[0mindex\u001b[0m\u001b[0;34m=\u001b[0m\u001b[0mstr\u001b[0m\u001b[0;34m,\u001b[0m \u001b[0mcolumns\u001b[0m\u001b[0;34m=\u001b[0m\u001b[0;34m{\u001b[0m\u001b[0;34m\"id\"\u001b[0m\u001b[0;34m:\u001b[0m\u001b[0;34m\"Alert Count\"\u001b[0m\u001b[0;34m}\u001b[0m\u001b[0;34m)\u001b[0m\u001b[0;34m\u001b[0m\u001b[0m\n\u001b[0m\u001b[1;32m      3\u001b[0m \u001b[0mdf1\u001b[0m \u001b[0;34m=\u001b[0m \u001b[0mdf1\u001b[0m\u001b[0;34m.\u001b[0m\u001b[0msort_values\u001b[0m\u001b[0;34m(\u001b[0m\u001b[0;34m[\u001b[0m\u001b[0;34m'Alert Count'\u001b[0m\u001b[0;34m]\u001b[0m\u001b[0;34m,\u001b[0m \u001b[0mascending\u001b[0m\u001b[0;34m=\u001b[0m\u001b[0;32mFalse\u001b[0m\u001b[0;34m)\u001b[0m\u001b[0;34m\u001b[0m\u001b[0m\n\u001b[1;32m      4\u001b[0m \u001b[0mdf1\u001b[0m\u001b[0;34m\u001b[0m\u001b[0m\n",
            "\u001b[0;31mNameError\u001b[0m: name 'df' is not defined"
          ]
        }
      ]
    },
    {
      "metadata": {
        "trusted": true
      },
      "cell_type": "code",
      "source": "# show a quick pie chart using matplotlib\n%matplotlib inline\nplt = df1.plot.pie(y=0, figsize=(5, 5), legend=False, autopct='%1.0f%%')",
      "execution_count": 13,
      "outputs": [
        {
          "output_type": "error",
          "ename": "NameError",
          "evalue": "name 'df1' is not defined",
          "traceback": [
            "\u001b[0;31m---------------------------------------------------------------------------\u001b[0m",
            "\u001b[0;31mNameError\u001b[0m                                 Traceback (most recent call last)",
            "\u001b[0;32m<ipython-input-13-00b8776a7b1b>\u001b[0m in \u001b[0;36m<module>\u001b[0;34m\u001b[0m\n\u001b[1;32m      1\u001b[0m \u001b[0;31m# show a quick pie chart using matplotlib\u001b[0m\u001b[0;34m\u001b[0m\u001b[0;34m\u001b[0m\u001b[0m\n\u001b[1;32m      2\u001b[0m \u001b[0mget_ipython\u001b[0m\u001b[0;34m(\u001b[0m\u001b[0;34m)\u001b[0m\u001b[0;34m.\u001b[0m\u001b[0mrun_line_magic\u001b[0m\u001b[0;34m(\u001b[0m\u001b[0;34m'matplotlib'\u001b[0m\u001b[0;34m,\u001b[0m \u001b[0;34m'inline'\u001b[0m\u001b[0;34m)\u001b[0m\u001b[0;34m\u001b[0m\u001b[0m\n\u001b[0;32m----> 3\u001b[0;31m \u001b[0mplt\u001b[0m \u001b[0;34m=\u001b[0m \u001b[0mdf1\u001b[0m\u001b[0;34m.\u001b[0m\u001b[0mplot\u001b[0m\u001b[0;34m.\u001b[0m\u001b[0mpie\u001b[0m\u001b[0;34m(\u001b[0m\u001b[0my\u001b[0m\u001b[0;34m=\u001b[0m\u001b[0;36m0\u001b[0m\u001b[0;34m,\u001b[0m \u001b[0mfigsize\u001b[0m\u001b[0;34m=\u001b[0m\u001b[0;34m(\u001b[0m\u001b[0;36m5\u001b[0m\u001b[0;34m,\u001b[0m \u001b[0;36m5\u001b[0m\u001b[0;34m)\u001b[0m\u001b[0;34m,\u001b[0m \u001b[0mlegend\u001b[0m\u001b[0;34m=\u001b[0m\u001b[0;32mFalse\u001b[0m\u001b[0;34m,\u001b[0m \u001b[0mautopct\u001b[0m\u001b[0;34m=\u001b[0m\u001b[0;34m'%1.0f%%'\u001b[0m\u001b[0;34m)\u001b[0m\u001b[0;34m\u001b[0m\u001b[0m\n\u001b[0m",
            "\u001b[0;31mNameError\u001b[0m: name 'df1' is not defined"
          ]
        }
      ]
    },
    {
      "metadata": {},
      "cell_type": "markdown",
      "source": "# Security Investigation Scenarios\n## Querying alerts by UPN (User Principal Name)"
    },
    {
      "metadata": {
        "trusted": true
      },
      "cell_type": "code",
      "source": "MsftGraphSec_api.alerts( userid = '<<Enter user principal name>>')",
      "execution_count": null,
      "outputs": []
    },
    {
      "metadata": {},
      "cell_type": "markdown",
      "source": "## Querying alerts by machine FQDNs (Fully Qualified Domain Name)\nYou can query alerts by machine fqdn, user id, ip, alert id, file sha1, domain, OData query, and more"
    },
    {
      "metadata": {
        "trusted": true
      },
      "cell_type": "code",
      "source": "MsftGraphSec_api.alerts( hostfqdn = '<<Enter host fqdn>>')",
      "execution_count": null,
      "outputs": []
    },
    {
      "metadata": {
        "trusted": true
      },
      "cell_type": "code",
      "source": "# query machines associated with an alert\nMsftGraphSec_api.alerts( alertid = '<<Enter alert ID>>')[['id', 'hostStates']]    #[['id', 'osBuild','osPlatform']]",
      "execution_count": null,
      "outputs": []
    },
    {
      "metadata": {
        "trusted": true
      },
      "cell_type": "code",
      "source": "# query alerts by machine name\nMsftGraphSec_api.alerts( filterstr = \"$filter=hostStates/any(d:d/netBiosName eq '<<Enter host name>>')\")",
      "execution_count": null,
      "outputs": []
    },
    {
      "metadata": {},
      "cell_type": "markdown",
      "source": "# Using different Data accesses\n\n## Data access using Jupyter Magics\n\nLines starting with % signify a Jupyter magic. A \"line magic\" take the text after the command and does something with it. This notebook defines several magics to make it easier to access the data you need.\n\n### Use magic on alert (entity)\n\n`%graph_sec_alert` takes an alert id and calls the API to get details about it"
    },
    {
      "metadata": {
        "trusted": true,
        "scrolled": true
      },
      "cell_type": "code",
      "source": "%graph_sec_alert <<Enter alert ID>>",
      "execution_count": null,
      "outputs": []
    },
    {
      "metadata": {},
      "cell_type": "markdown",
      "source": "#### Querying multiple alerts and regex\nYou can also provide a list of alert ids and invoke the cell magic with `%%graph_sec_alert`\n\nBecause alert ids have a standard syntax, the alert magic also can take arbitrary text and it will extract alert ids\nby using a regex.  This is handy if you want to quickly copy-paste some text from an email or chat window that has\nalert ids intermixed with conversation."
    },
    {
      "metadata": {
        "trusted": true
      },
      "cell_type": "code",
      "source": "%%graph_sec_alert\nHi, be sure to investigate these 3 alerts and verify your results.\nD3EC9E2C-29A2-4DD3-9E1E-068C9B022938\n41CB1B5D-F295-40B3-8B18-DFC4AA85531E\nAD5D3084-CB9A-45D5-9AA0-81EF680C20D4\nPlease update the ticket when completed,\nThanks! ",
      "execution_count": null,
      "outputs": []
    },
    {
      "metadata": {},
      "cell_type": "markdown",
      "source": "### Use Magic for properties like files\nYou can look up Microsoft Graph Security alert data on files with the `%%graph_sec_file` magic by passing the file hash value"
    },
    {
      "metadata": {
        "trusted": true,
        "scrolled": true
      },
      "cell_type": "code",
      "source": "%%graph_sec_file \n<<Enter file hash value>>\n",
      "execution_count": null,
      "outputs": []
    }
  ],
  "metadata": {
    "kernelspec": {
      "name": "python36",
      "display_name": "Python 3.6",
      "language": "python"
    },
    "language_info": {
      "mimetype": "text/x-python",
      "nbconvert_exporter": "python",
      "name": "python",
      "pygments_lexer": "ipython3",
      "version": "3.6.6",
      "file_extension": ".py",
      "codemirror_mode": {
        "version": 3,
        "name": "ipython"
      }
    }
  },
  "nbformat": 4,
  "nbformat_minor": 2
}